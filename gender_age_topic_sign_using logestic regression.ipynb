{
 "cells": [
  {
   "cell_type": "code",
   "execution_count": 2,
   "metadata": {
    "execution": {
     "iopub.execute_input": "2024-05-27T11:30:42.720555Z",
     "iopub.status.busy": "2024-05-27T11:30:42.719880Z",
     "iopub.status.idle": "2024-05-27T11:30:44.235507Z",
     "shell.execute_reply": "2024-05-27T11:30:44.234275Z",
     "shell.execute_reply.started": "2024-05-27T11:30:42.720513Z"
    }
   },
   "outputs": [],
   "source": [
    "import pandas as pd\n",
    "import numpy as np\n",
    "import re\n",
    "import nltk\n",
    "from nltk.corpus import stopwords\n",
    "from nltk.tokenize import word_tokenize\n",
    "from sklearn.feature_extraction.text import CountVectorizer\n",
    "import warnings\n",
    "warnings.filterwarnings(\"ignore\")\n",
    "from sklearn.model_selection import train_test_split\n",
    "from sklearn.metrics import mean_squared_error\n",
    "from sklearn.preprocessing import LabelEncoder"
   ]
  },
  {
   "cell_type": "code",
   "execution_count": 3,
   "metadata": {
    "execution": {
     "iopub.execute_input": "2024-05-27T11:30:47.348871Z",
     "iopub.status.busy": "2024-05-27T11:30:47.348483Z",
     "iopub.status.idle": "2024-05-27T11:31:05.905625Z",
     "shell.execute_reply": "2024-05-27T11:31:05.904371Z",
     "shell.execute_reply.started": "2024-05-27T11:30:47.348841Z"
    }
   },
   "outputs": [],
   "source": [
    "data =  pd.read_csv('/kaggle/input/blog-authorship-corpus/blogtext.csv')"
   ]
  },
  {
   "cell_type": "code",
   "execution_count": 4,
   "metadata": {
    "execution": {
     "iopub.execute_input": "2024-05-27T11:31:14.386912Z",
     "iopub.status.busy": "2024-05-27T11:31:14.386379Z",
     "iopub.status.idle": "2024-05-27T11:31:14.393322Z",
     "shell.execute_reply": "2024-05-27T11:31:14.392303Z",
     "shell.execute_reply.started": "2024-05-27T11:31:14.386871Z"
    }
   },
   "outputs": [],
   "source": [
    "new_data = data.head(1000)"
   ]
  },
  {
   "cell_type": "code",
   "execution_count": 5,
   "metadata": {
    "execution": {
     "iopub.execute_input": "2024-05-27T11:31:16.672328Z",
     "iopub.status.busy": "2024-05-27T11:31:16.671888Z",
     "iopub.status.idle": "2024-05-27T11:31:16.697499Z",
     "shell.execute_reply": "2024-05-27T11:31:16.696299Z",
     "shell.execute_reply.started": "2024-05-27T11:31:16.672296Z"
    }
   },
   "outputs": [
    {
     "data": {
      "text/html": [
       "<div>\n",
       "<style scoped>\n",
       "    .dataframe tbody tr th:only-of-type {\n",
       "        vertical-align: middle;\n",
       "    }\n",
       "\n",
       "    .dataframe tbody tr th {\n",
       "        vertical-align: top;\n",
       "    }\n",
       "\n",
       "    .dataframe thead th {\n",
       "        text-align: right;\n",
       "    }\n",
       "</style>\n",
       "<table border=\"1\" class=\"dataframe\">\n",
       "  <thead>\n",
       "    <tr style=\"text-align: right;\">\n",
       "      <th></th>\n",
       "      <th>id</th>\n",
       "      <th>gender</th>\n",
       "      <th>age</th>\n",
       "      <th>topic</th>\n",
       "      <th>sign</th>\n",
       "      <th>date</th>\n",
       "      <th>text</th>\n",
       "    </tr>\n",
       "  </thead>\n",
       "  <tbody>\n",
       "    <tr>\n",
       "      <th>0</th>\n",
       "      <td>2059027</td>\n",
       "      <td>male</td>\n",
       "      <td>15</td>\n",
       "      <td>Student</td>\n",
       "      <td>Leo</td>\n",
       "      <td>14,May,2004</td>\n",
       "      <td>Info has been found (+/- 100 pages,...</td>\n",
       "    </tr>\n",
       "    <tr>\n",
       "      <th>1</th>\n",
       "      <td>2059027</td>\n",
       "      <td>male</td>\n",
       "      <td>15</td>\n",
       "      <td>Student</td>\n",
       "      <td>Leo</td>\n",
       "      <td>13,May,2004</td>\n",
       "      <td>These are the team members:   Drewe...</td>\n",
       "    </tr>\n",
       "    <tr>\n",
       "      <th>2</th>\n",
       "      <td>2059027</td>\n",
       "      <td>male</td>\n",
       "      <td>15</td>\n",
       "      <td>Student</td>\n",
       "      <td>Leo</td>\n",
       "      <td>12,May,2004</td>\n",
       "      <td>In het kader van kernfusie op aarde...</td>\n",
       "    </tr>\n",
       "    <tr>\n",
       "      <th>3</th>\n",
       "      <td>2059027</td>\n",
       "      <td>male</td>\n",
       "      <td>15</td>\n",
       "      <td>Student</td>\n",
       "      <td>Leo</td>\n",
       "      <td>12,May,2004</td>\n",
       "      <td>testing!!!  testing!!!</td>\n",
       "    </tr>\n",
       "    <tr>\n",
       "      <th>4</th>\n",
       "      <td>3581210</td>\n",
       "      <td>male</td>\n",
       "      <td>33</td>\n",
       "      <td>InvestmentBanking</td>\n",
       "      <td>Aquarius</td>\n",
       "      <td>11,June,2004</td>\n",
       "      <td>Thanks to Yahoo!'s Toolbar I can ...</td>\n",
       "    </tr>\n",
       "  </tbody>\n",
       "</table>\n",
       "</div>"
      ],
      "text/plain": [
       "        id gender  age              topic      sign          date  \\\n",
       "0  2059027   male   15            Student       Leo   14,May,2004   \n",
       "1  2059027   male   15            Student       Leo   13,May,2004   \n",
       "2  2059027   male   15            Student       Leo   12,May,2004   \n",
       "3  2059027   male   15            Student       Leo   12,May,2004   \n",
       "4  3581210   male   33  InvestmentBanking  Aquarius  11,June,2004   \n",
       "\n",
       "                                                text  \n",
       "0             Info has been found (+/- 100 pages,...  \n",
       "1             These are the team members:   Drewe...  \n",
       "2             In het kader van kernfusie op aarde...  \n",
       "3                   testing!!!  testing!!!            \n",
       "4               Thanks to Yahoo!'s Toolbar I can ...  "
      ]
     },
     "execution_count": 5,
     "metadata": {},
     "output_type": "execute_result"
    }
   ],
   "source": [
    "new_data.head()"
   ]
  },
  {
   "cell_type": "code",
   "execution_count": 6,
   "metadata": {
    "execution": {
     "iopub.execute_input": "2024-05-27T11:31:20.043561Z",
     "iopub.status.busy": "2024-05-27T11:31:20.043135Z",
     "iopub.status.idle": "2024-05-27T11:31:20.220724Z",
     "shell.execute_reply": "2024-05-27T11:31:20.219016Z",
     "shell.execute_reply.started": "2024-05-27T11:31:20.043529Z"
    }
   },
   "outputs": [
    {
     "name": "stdout",
     "output_type": "stream",
     "text": [
      "[nltk_data] Downloading package stopwords to /usr/share/nltk_data...\n",
      "[nltk_data]   Package stopwords is already up-to-date!\n",
      "[nltk_data] Downloading package punkt to /usr/share/nltk_data...\n",
      "[nltk_data]   Package punkt is already up-to-date!\n"
     ]
    }
   ],
   "source": [
    "def remove_unwanted_characters(text):\n",
    "    # Remove non-alphanumeric characters and symbols\n",
    "    cleaned_text = re.sub(r'[^a-zA-Z0-9\\s]', '', text)\n",
    "    return cleaned_text\n",
    "def convert_to_lowercase(text):\n",
    "    # Convert text to lowercase\n",
    "    lowercase_text = text.lower()\n",
    "    return lowercase_text\n",
    "def remove_unwanted_spaces(text):\n",
    "    # Remove extra whitespaces\n",
    "    cleaned_text = ' '.join(text.split())\n",
    "    return cleaned_text\n",
    "\n",
    "# Download stopwords if not already downloaded\n",
    "nltk.download('stopwords')\n",
    "nltk.download('punkt')\n",
    "stop_words = set(stopwords.words('english'))"
   ]
  },
  {
   "cell_type": "code",
   "execution_count": 7,
   "metadata": {
    "execution": {
     "iopub.execute_input": "2024-05-27T11:31:24.937513Z",
     "iopub.status.busy": "2024-05-27T11:31:24.937078Z",
     "iopub.status.idle": "2024-05-27T11:31:24.943400Z",
     "shell.execute_reply": "2024-05-27T11:31:24.942490Z",
     "shell.execute_reply.started": "2024-05-27T11:31:24.937480Z"
    }
   },
   "outputs": [],
   "source": [
    "def remove_stopwords(text):\n",
    "    # Tokenize the text and remove stopwords\n",
    "    words = word_tokenize(text)\n",
    "    filtered_words = [word for word in words if word.lower() not in stop_words]\n",
    "    cleaned_text = ' '.join(filtered_words)\n",
    "    return cleaned_text"
   ]
  },
  {
   "cell_type": "code",
   "execution_count": 8,
   "metadata": {
    "execution": {
     "iopub.execute_input": "2024-05-27T11:31:27.367699Z",
     "iopub.status.busy": "2024-05-27T11:31:27.367311Z",
     "iopub.status.idle": "2024-05-27T11:31:29.839526Z",
     "shell.execute_reply": "2024-05-27T11:31:29.837827Z",
     "shell.execute_reply.started": "2024-05-27T11:31:27.367669Z"
    }
   },
   "outputs": [],
   "source": [
    "new_data['text'] = new_data['text'].apply(remove_unwanted_characters)\n",
    "new_data['text'] = new_data['text'].apply(convert_to_lowercase)\n",
    "new_data['text'] = new_data['text'].apply(remove_unwanted_spaces)\n",
    "new_data['text'] = new_data['text'].apply(remove_stopwords)"
   ]
  },
  {
   "cell_type": "code",
   "execution_count": 10,
   "metadata": {
    "execution": {
     "iopub.execute_input": "2024-05-27T11:32:08.543478Z",
     "iopub.status.busy": "2024-05-27T11:32:08.543085Z",
     "iopub.status.idle": "2024-05-27T11:32:12.770725Z",
     "shell.execute_reply": "2024-05-27T11:32:12.769013Z",
     "shell.execute_reply.started": "2024-05-27T11:32:08.543447Z"
    }
   },
   "outputs": [
    {
     "name": "stdout",
     "output_type": "stream",
     "text": [
      "              precision    recall  f1-score   support\n",
      "\n",
      "      female       0.83      0.62      0.71        84\n",
      "        male       0.77      0.91      0.83       116\n",
      "\n",
      "    accuracy                           0.79       200\n",
      "   macro avg       0.80      0.76      0.77       200\n",
      "weighted avg       0.79      0.79      0.78       200\n",
      "\n"
     ]
    }
   ],
   "source": [
    "\n",
    "\n",
    "# print(classification_report(y_test,y_pred))\n",
    "from sklearn.model_selection import train_test_split\n",
    "from sklearn.feature_extraction.text import CountVectorizer\n",
    "from sklearn.linear_model import LogisticRegression\n",
    "from sklearn.preprocessing import LabelEncoder\n",
    "from sklearn.metrics import classification_report\n",
    "le_gender = LabelEncoder()\n",
    "new_data['gender_encoded'] = le_gender.fit_transform(new_data['gender'])\n",
    "\n",
    "# Features (text data) and labels\n",
    "X = new_data['text']\n",
    "y = new_data['gender_encoded']\n",
    "\n",
    "# Split the data into training and testing sets\n",
    "X_train, X_test, y_train, y_test = train_test_split(X, y, test_size=0.2, random_state=42)\n",
    "\n",
    "# Create a Count Vectorizer with ngram_range=(1, 2)\n",
    "vectorizer = CountVectorizer(ngram_range=(1, 2))\n",
    "\n",
    "# Vectorize training features\n",
    "X_train_vectorized = vectorizer.fit_transform(X_train)\n",
    "# Vectorize testing features\n",
    "X_test_vectorized = vectorizer.transform(X_test)\n",
    "\n",
    "# Create a logistic regression classifier\n",
    "classifier = LogisticRegression(max_iter=1000)\n",
    "\n",
    "# Train the classifier on the transformed training data\n",
    "classifier.fit(X_train_vectorized, y_train)\n",
    "\n",
    "# Make predictions on the test set\n",
    "y_pred = classifier.predict(X_test_vectorized)\n",
    "\n",
    "# Print classification report\n",
    "print(classification_report(y_test, y_pred, target_names=le_gender.classes_))"
   ]
  },
  {
   "cell_type": "code",
   "execution_count": 11,
   "metadata": {
    "execution": {
     "iopub.execute_input": "2024-05-27T11:32:26.208821Z",
     "iopub.status.busy": "2024-05-27T11:32:26.208379Z",
     "iopub.status.idle": "2024-05-27T11:32:28.971046Z",
     "shell.execute_reply": "2024-05-27T11:32:28.969085Z",
     "shell.execute_reply.started": "2024-05-27T11:32:26.208786Z"
    }
   },
   "outputs": [],
   "source": [
    "X_vectorized = vectorizer.transform(X)\n",
    "\n",
    "classifier.fit(X_train_vectorized, y_train)\n",
    "y_pred = classifier.predict(X_vectorized)\n",
    "\n",
    "new_data['gender_pred'] = y_pred"
   ]
  },
  {
   "cell_type": "code",
   "execution_count": 12,
   "metadata": {
    "execution": {
     "iopub.execute_input": "2024-05-27T11:32:32.334911Z",
     "iopub.status.busy": "2024-05-27T11:32:32.334455Z",
     "iopub.status.idle": "2024-05-27T11:32:32.753583Z",
     "shell.execute_reply": "2024-05-27T11:32:32.752343Z",
     "shell.execute_reply.started": "2024-05-27T11:32:32.334873Z"
    }
   },
   "outputs": [
    {
     "name": "stdout",
     "output_type": "stream",
     "text": [
      "        id gender  age              topic      sign          date  \\\n",
      "0  2059027   male   15            Student       Leo   14,May,2004   \n",
      "1  2059027   male   15            Student       Leo   13,May,2004   \n",
      "2  2059027   male   15            Student       Leo   12,May,2004   \n",
      "3  2059027   male   15            Student       Leo   12,May,2004   \n",
      "4  3581210   male   33  InvestmentBanking  Aquarius  11,June,2004   \n",
      "\n",
      "                                                text  gender_encoded  \\\n",
      "0  info found 100 pages 45 mb pdf files wait unti...               1   \n",
      "1  team members drewes van der laag urllink mail ...               1   \n",
      "2  het kader van kernfusie op aarde maak je eigen...               1   \n",
      "3                                    testing testing               1   \n",
      "4  thanks yahoos toolbar capture urls popupswhich...               1   \n",
      "\n",
      "   gender_pred  gender_prob  \n",
      "0            1     0.935191  \n",
      "1            1     0.957865  \n",
      "2            1     1.000000  \n",
      "3            1     0.800874  \n",
      "4            1     0.972241  \n"
     ]
    }
   ],
   "source": [
    "X_vectorized = vectorizer.transform(new_data['text'])\n",
    "probabilities = classifier.predict_proba(X_vectorized)\n",
    "\n",
    "# Add the predicted probabilities to the new_data DataFrame\n",
    "# Assuming the second column corresponds to the probability of the positive class (e.g., 'male')\n",
    "new_data['gender_prob'] = probabilities[:, 1]\n",
    "\n",
    "# Print or use new_data with 'gender_prob' column as needed\n",
    "print(new_data.head())"
   ]
  },
  {
   "cell_type": "code",
   "execution_count": 13,
   "metadata": {
    "execution": {
     "iopub.execute_input": "2024-05-27T11:37:16.305024Z",
     "iopub.status.busy": "2024-05-27T11:37:16.304566Z",
     "iopub.status.idle": "2024-05-27T11:38:03.091382Z",
     "shell.execute_reply": "2024-05-27T11:38:03.089694Z",
     "shell.execute_reply.started": "2024-05-27T11:37:16.304988Z"
    }
   },
   "outputs": [
    {
     "name": "stdout",
     "output_type": "stream",
     "text": [
      "                      precision    recall  f1-score   support\n",
      "\n",
      "                Arts       0.00      0.00      0.00         1\n",
      "             Banking       0.00      0.00      0.00         1\n",
      "    BusinessServices       1.00      1.00      1.00         4\n",
      "Communications-Media       0.00      0.00      0.00         3\n",
      "           Education       0.43      0.17      0.24        18\n",
      "         Engineering       0.81      0.70      0.75        30\n",
      "   InvestmentBanking       1.00      0.80      0.89        15\n",
      "          Non-Profit       0.50      0.17      0.25         6\n",
      "             Science       0.00      0.00      0.00         5\n",
      "   Sports-Recreation       1.00      0.80      0.89        15\n",
      "             Student       0.67      0.52      0.58        27\n",
      "              indUnk       0.58      0.89      0.70        75\n",
      "\n",
      "            accuracy                           0.67       200\n",
      "           macro avg       0.50      0.42      0.44       200\n",
      "        weighted avg       0.65      0.67      0.64       200\n",
      "\n"
     ]
    }
   ],
   "source": [
    "from sklearn.model_selection import train_test_split\n",
    "from sklearn.feature_extraction.text import CountVectorizer\n",
    "from sklearn.linear_model import LogisticRegression\n",
    "from sklearn.preprocessing import LabelEncoder\n",
    "from sklearn.metrics import classification_report\n",
    "le_gender = LabelEncoder()\n",
    "new_data['topic_encoded'] = le_gender.fit_transform(new_data['topic'])\n",
    "\n",
    "# Features (text data) and labels\n",
    "X = new_data['text']\n",
    "y = new_data['topic_encoded']\n",
    "\n",
    "# Split the data into training and testing sets\n",
    "X_train, X_test, y_train, y_test = train_test_split(X, y, test_size=0.2, random_state=42)\n",
    "\n",
    "# Create a Count Vectorizer with ngram_range=(1, 2)\n",
    "vectorizer = CountVectorizer(ngram_range=(1, 2))\n",
    "\n",
    "# Vectorize training features\n",
    "X_train_vectorized = vectorizer.fit_transform(X_train)\n",
    "# Vectorize testing features\n",
    "X_test_vectorized = vectorizer.transform(X_test)\n",
    "\n",
    "# Create a logistic regression classifier\n",
    "classifier = LogisticRegression(max_iter=1000)\n",
    "\n",
    "# Train the classifier on the transformed training data\n",
    "classifier.fit(X_train_vectorized, y_train)\n",
    "\n",
    "# Make predictions on the test set\n",
    "y_pred = classifier.predict(X_test_vectorized)\n",
    "\n",
    "# Print classification report\n",
    "print(classification_report(y_test, y_pred, target_names=le_gender.classes_))"
   ]
  },
  {
   "cell_type": "code",
   "execution_count": 15,
   "metadata": {
    "execution": {
     "iopub.execute_input": "2024-05-27T11:39:01.992388Z",
     "iopub.status.busy": "2024-05-27T11:39:01.992057Z",
     "iopub.status.idle": "2024-05-27T11:39:46.257665Z",
     "shell.execute_reply": "2024-05-27T11:39:46.256228Z",
     "shell.execute_reply.started": "2024-05-27T11:39:01.992359Z"
    }
   },
   "outputs": [],
   "source": [
    "X_vectorized = vectorizer.transform(X)\n",
    "\n",
    "classifier.fit(X_train_vectorized, y_train)\n",
    "y_pred = classifier.predict(X_vectorized)\n",
    "\n",
    "new_data['topic_pred'] = y_pred"
   ]
  },
  {
   "cell_type": "code",
   "execution_count": 16,
   "metadata": {
    "execution": {
     "iopub.execute_input": "2024-05-27T11:39:54.452154Z",
     "iopub.status.busy": "2024-05-27T11:39:54.451735Z",
     "iopub.status.idle": "2024-05-27T11:39:54.872197Z",
     "shell.execute_reply": "2024-05-27T11:39:54.870901Z",
     "shell.execute_reply.started": "2024-05-27T11:39:54.452120Z"
    }
   },
   "outputs": [
    {
     "name": "stdout",
     "output_type": "stream",
     "text": [
      "        id gender  age              topic      sign          date  \\\n",
      "0  2059027   male   15            Student       Leo   14,May,2004   \n",
      "1  2059027   male   15            Student       Leo   13,May,2004   \n",
      "2  2059027   male   15            Student       Leo   12,May,2004   \n",
      "3  2059027   male   15            Student       Leo   12,May,2004   \n",
      "4  3581210   male   33  InvestmentBanking  Aquarius  11,June,2004   \n",
      "\n",
      "                                                text  gender_encoded  \\\n",
      "0  info found 100 pages 45 mb pdf files wait unti...               1   \n",
      "1  team members drewes van der laag urllink mail ...               1   \n",
      "2  het kader van kernfusie op aarde maak je eigen...               1   \n",
      "3                                    testing testing               1   \n",
      "4  thanks yahoos toolbar capture urls popupswhich...               1   \n",
      "\n",
      "   gender_pred  gender_prob  topic_encoded  topic_pred  topic_prob  \n",
      "0            1     0.935191             10          10    0.001794  \n",
      "1            1     0.957865             10          10    0.006976  \n",
      "2            1     1.000000             10          10    0.000056  \n",
      "3            1     0.800874             10          10    0.004951  \n",
      "4            1     0.972241              6           6    0.003481  \n"
     ]
    }
   ],
   "source": [
    "X_vectorized = vectorizer.transform(new_data['text'])\n",
    "probabilities = classifier.predict_proba(X_vectorized)\n",
    "\n",
    "# Add the predicted probabilities to the new_data DataFrame\n",
    "# Assuming the second column corresponds to the probability of the positive class (e.g., 'male')\n",
    "new_data['topic_prob'] = probabilities[:, 1]\n",
    "\n",
    "# Print or use new_data with 'gender_prob' column as needed\n",
    "print(new_data.head())"
   ]
  },
  {
   "cell_type": "code",
   "execution_count": 17,
   "metadata": {
    "execution": {
     "iopub.execute_input": "2024-05-27T11:41:04.022212Z",
     "iopub.status.busy": "2024-05-27T11:41:04.021782Z",
     "iopub.status.idle": "2024-05-27T11:41:59.803183Z",
     "shell.execute_reply": "2024-05-27T11:41:59.801825Z",
     "shell.execute_reply.started": "2024-05-27T11:41:04.022182Z"
    }
   },
   "outputs": [
    {
     "name": "stdout",
     "output_type": "stream",
     "text": [
      "              precision    recall  f1-score   support\n",
      "\n",
      "    Aquarius       0.70      0.57      0.63        46\n",
      "       Aries       1.00      0.14      0.25         7\n",
      "      Cancer       0.83      0.45      0.59        11\n",
      "   Capricorn       1.00      0.75      0.86        16\n",
      "      Gemini       0.00      0.00      0.00         2\n",
      "         Leo       1.00      0.20      0.33        10\n",
      "       Libra       0.74      0.66      0.70        44\n",
      "      Pisces       0.00      0.00      0.00         1\n",
      " Sagittarius       0.40      0.59      0.48        17\n",
      "     Scorpio       0.54      0.95      0.69        44\n",
      "      Taurus       0.00      0.00      0.00         1\n",
      "       Virgo       0.00      0.00      0.00         1\n",
      "\n",
      "    accuracy                           0.64       200\n",
      "   macro avg       0.52      0.36      0.38       200\n",
      "weighted avg       0.69      0.64      0.62       200\n",
      "\n"
     ]
    }
   ],
   "source": [
    "from sklearn.model_selection import train_test_split\n",
    "from sklearn.feature_extraction.text import CountVectorizer\n",
    "from sklearn.linear_model import LogisticRegression\n",
    "from sklearn.preprocessing import LabelEncoder\n",
    "from sklearn.metrics import classification_report\n",
    "le_gender = LabelEncoder()\n",
    "new_data['sign_encoded'] = le_gender.fit_transform(new_data['sign'])\n",
    "\n",
    "# Features (text data) and labels\n",
    "X = new_data['text']\n",
    "y = new_data['sign_encoded']\n",
    "\n",
    "# Split the data into training and testing sets\n",
    "X_train, X_test, y_train, y_test = train_test_split(X, y, test_size=0.2, random_state=42)\n",
    "\n",
    "# Create a Count Vectorizer with ngram_range=(1, 2)\n",
    "vectorizer = CountVectorizer(ngram_range=(1, 2))\n",
    "\n",
    "# Vectorize training features\n",
    "X_train_vectorized = vectorizer.fit_transform(X_train)\n",
    "# Vectorize testing features\n",
    "X_test_vectorized = vectorizer.transform(X_test)\n",
    "\n",
    "# Create a logistic regression classifier\n",
    "classifier = LogisticRegression(max_iter=1000)\n",
    "\n",
    "# Train the classifier on the transformed training data\n",
    "classifier.fit(X_train_vectorized, y_train)\n",
    "\n",
    "# Make predictions on the test set\n",
    "y_pred = classifier.predict(X_test_vectorized)\n",
    "\n",
    "# Print classification report\n",
    "print(classification_report(y_test, y_pred, target_names=le_gender.classes_))"
   ]
  },
  {
   "cell_type": "code",
   "execution_count": 18,
   "metadata": {
    "execution": {
     "iopub.execute_input": "2024-05-27T11:43:02.898450Z",
     "iopub.status.busy": "2024-05-27T11:43:02.898058Z",
     "iopub.status.idle": "2024-05-27T11:43:58.553535Z",
     "shell.execute_reply": "2024-05-27T11:43:58.551734Z",
     "shell.execute_reply.started": "2024-05-27T11:43:02.898412Z"
    }
   },
   "outputs": [],
   "source": [
    "X_vectorized = vectorizer.transform(X)\n",
    "\n",
    "classifier.fit(X_train_vectorized, y_train)\n",
    "y_pred = classifier.predict(X_vectorized)\n",
    "\n",
    "new_data['sign_pred'] = y_pred"
   ]
  },
  {
   "cell_type": "code",
   "execution_count": 19,
   "metadata": {
    "execution": {
     "iopub.execute_input": "2024-05-27T11:44:01.266411Z",
     "iopub.status.busy": "2024-05-27T11:44:01.264906Z",
     "iopub.status.idle": "2024-05-27T11:44:01.691593Z",
     "shell.execute_reply": "2024-05-27T11:44:01.690390Z",
     "shell.execute_reply.started": "2024-05-27T11:44:01.266351Z"
    }
   },
   "outputs": [
    {
     "name": "stdout",
     "output_type": "stream",
     "text": [
      "        id gender  age              topic      sign          date  \\\n",
      "0  2059027   male   15            Student       Leo   14,May,2004   \n",
      "1  2059027   male   15            Student       Leo   13,May,2004   \n",
      "2  2059027   male   15            Student       Leo   12,May,2004   \n",
      "3  2059027   male   15            Student       Leo   12,May,2004   \n",
      "4  3581210   male   33  InvestmentBanking  Aquarius  11,June,2004   \n",
      "\n",
      "                                                text  gender_encoded  \\\n",
      "0  info found 100 pages 45 mb pdf files wait unti...               1   \n",
      "1  team members drewes van der laag urllink mail ...               1   \n",
      "2  het kader van kernfusie op aarde maak je eigen...               1   \n",
      "3                                    testing testing               1   \n",
      "4  thanks yahoos toolbar capture urls popupswhich...               1   \n",
      "\n",
      "   gender_pred  gender_prob  topic_encoded  topic_pred  topic_prob  \\\n",
      "0            1     0.935191             10          10    0.001794   \n",
      "1            1     0.957865             10          10    0.006976   \n",
      "2            1     1.000000             10          10    0.000056   \n",
      "3            1     0.800874             10          10    0.004951   \n",
      "4            1     0.972241              6           6    0.003481   \n",
      "\n",
      "   sign_encoded  sign_pred     sign_prob  \n",
      "0             5          5  5.644877e-03  \n",
      "1             5          5  1.470831e-03  \n",
      "2             5          5  9.332156e-07  \n",
      "3             5          5  1.597856e-02  \n",
      "4             0          0  8.787794e-04  \n"
     ]
    }
   ],
   "source": [
    "X_vectorized = vectorizer.transform(new_data['text'])\n",
    "probabilities = classifier.predict_proba(X_vectorized)\n",
    "\n",
    "# Add the predicted probabilities to the new_data DataFrame\n",
    "# Assuming the second column corresponds to the probability of the positive class (e.g., 'male')\n",
    "new_data['sign_prob'] = probabilities[:, 1]\n",
    "\n",
    "# Print or use new_data with 'gender_prob' column as needed\n",
    "print(new_data.head())"
   ]
  },
  {
   "cell_type": "code",
   "execution_count": 20,
   "metadata": {
    "execution": {
     "iopub.execute_input": "2024-05-27T11:44:10.158320Z",
     "iopub.status.busy": "2024-05-27T11:44:10.157888Z",
     "iopub.status.idle": "2024-05-27T11:44:10.168558Z",
     "shell.execute_reply": "2024-05-27T11:44:10.166660Z",
     "shell.execute_reply.started": "2024-05-27T11:44:10.158287Z"
    }
   },
   "outputs": [],
   "source": [
    "def categorize_age(age):\n",
    "    if 13 <= age <= 24:\n",
    "        return '[13-24]'\n",
    "    elif 25 <= age <= 36:\n",
    "        return '[25-36]'\n",
    "    elif 37 <= age <= 48:\n",
    "        return '[37-48]'\n",
    "    else:\n",
    "        return 'Out of range'  # You can handle ages outside the specified ranges if needed\n",
    "\n",
    "# Apply the function to the 'age' column\n",
    "new_data['age'] = new_data['age'].apply(categorize_age)"
   ]
  },
  {
   "cell_type": "code",
   "execution_count": 21,
   "metadata": {
    "execution": {
     "iopub.execute_input": "2024-05-27T11:44:13.381527Z",
     "iopub.status.busy": "2024-05-27T11:44:13.381132Z",
     "iopub.status.idle": "2024-05-27T11:44:13.402624Z",
     "shell.execute_reply": "2024-05-27T11:44:13.401225Z",
     "shell.execute_reply.started": "2024-05-27T11:44:13.381497Z"
    }
   },
   "outputs": [
    {
     "data": {
      "text/html": [
       "<div>\n",
       "<style scoped>\n",
       "    .dataframe tbody tr th:only-of-type {\n",
       "        vertical-align: middle;\n",
       "    }\n",
       "\n",
       "    .dataframe tbody tr th {\n",
       "        vertical-align: top;\n",
       "    }\n",
       "\n",
       "    .dataframe thead th {\n",
       "        text-align: right;\n",
       "    }\n",
       "</style>\n",
       "<table border=\"1\" class=\"dataframe\">\n",
       "  <thead>\n",
       "    <tr style=\"text-align: right;\">\n",
       "      <th></th>\n",
       "      <th>id</th>\n",
       "      <th>gender</th>\n",
       "      <th>age</th>\n",
       "      <th>topic</th>\n",
       "      <th>sign</th>\n",
       "      <th>date</th>\n",
       "      <th>text</th>\n",
       "      <th>gender_encoded</th>\n",
       "      <th>gender_pred</th>\n",
       "      <th>gender_prob</th>\n",
       "      <th>topic_encoded</th>\n",
       "      <th>topic_pred</th>\n",
       "      <th>topic_prob</th>\n",
       "      <th>sign_encoded</th>\n",
       "      <th>sign_pred</th>\n",
       "      <th>sign_prob</th>\n",
       "    </tr>\n",
       "  </thead>\n",
       "  <tbody>\n",
       "    <tr>\n",
       "      <th>0</th>\n",
       "      <td>2059027</td>\n",
       "      <td>male</td>\n",
       "      <td>[13-24]</td>\n",
       "      <td>Student</td>\n",
       "      <td>Leo</td>\n",
       "      <td>14,May,2004</td>\n",
       "      <td>info found 100 pages 45 mb pdf files wait unti...</td>\n",
       "      <td>1</td>\n",
       "      <td>1</td>\n",
       "      <td>0.935191</td>\n",
       "      <td>10</td>\n",
       "      <td>10</td>\n",
       "      <td>0.001794</td>\n",
       "      <td>5</td>\n",
       "      <td>5</td>\n",
       "      <td>5.644877e-03</td>\n",
       "    </tr>\n",
       "    <tr>\n",
       "      <th>1</th>\n",
       "      <td>2059027</td>\n",
       "      <td>male</td>\n",
       "      <td>[13-24]</td>\n",
       "      <td>Student</td>\n",
       "      <td>Leo</td>\n",
       "      <td>13,May,2004</td>\n",
       "      <td>team members drewes van der laag urllink mail ...</td>\n",
       "      <td>1</td>\n",
       "      <td>1</td>\n",
       "      <td>0.957865</td>\n",
       "      <td>10</td>\n",
       "      <td>10</td>\n",
       "      <td>0.006976</td>\n",
       "      <td>5</td>\n",
       "      <td>5</td>\n",
       "      <td>1.470831e-03</td>\n",
       "    </tr>\n",
       "    <tr>\n",
       "      <th>2</th>\n",
       "      <td>2059027</td>\n",
       "      <td>male</td>\n",
       "      <td>[13-24]</td>\n",
       "      <td>Student</td>\n",
       "      <td>Leo</td>\n",
       "      <td>12,May,2004</td>\n",
       "      <td>het kader van kernfusie op aarde maak je eigen...</td>\n",
       "      <td>1</td>\n",
       "      <td>1</td>\n",
       "      <td>1.000000</td>\n",
       "      <td>10</td>\n",
       "      <td>10</td>\n",
       "      <td>0.000056</td>\n",
       "      <td>5</td>\n",
       "      <td>5</td>\n",
       "      <td>9.332156e-07</td>\n",
       "    </tr>\n",
       "    <tr>\n",
       "      <th>3</th>\n",
       "      <td>2059027</td>\n",
       "      <td>male</td>\n",
       "      <td>[13-24]</td>\n",
       "      <td>Student</td>\n",
       "      <td>Leo</td>\n",
       "      <td>12,May,2004</td>\n",
       "      <td>testing testing</td>\n",
       "      <td>1</td>\n",
       "      <td>1</td>\n",
       "      <td>0.800874</td>\n",
       "      <td>10</td>\n",
       "      <td>10</td>\n",
       "      <td>0.004951</td>\n",
       "      <td>5</td>\n",
       "      <td>5</td>\n",
       "      <td>1.597856e-02</td>\n",
       "    </tr>\n",
       "    <tr>\n",
       "      <th>4</th>\n",
       "      <td>3581210</td>\n",
       "      <td>male</td>\n",
       "      <td>[25-36]</td>\n",
       "      <td>InvestmentBanking</td>\n",
       "      <td>Aquarius</td>\n",
       "      <td>11,June,2004</td>\n",
       "      <td>thanks yahoos toolbar capture urls popupswhich...</td>\n",
       "      <td>1</td>\n",
       "      <td>1</td>\n",
       "      <td>0.972241</td>\n",
       "      <td>6</td>\n",
       "      <td>6</td>\n",
       "      <td>0.003481</td>\n",
       "      <td>0</td>\n",
       "      <td>0</td>\n",
       "      <td>8.787794e-04</td>\n",
       "    </tr>\n",
       "  </tbody>\n",
       "</table>\n",
       "</div>"
      ],
      "text/plain": [
       "        id gender      age              topic      sign          date  \\\n",
       "0  2059027   male  [13-24]            Student       Leo   14,May,2004   \n",
       "1  2059027   male  [13-24]            Student       Leo   13,May,2004   \n",
       "2  2059027   male  [13-24]            Student       Leo   12,May,2004   \n",
       "3  2059027   male  [13-24]            Student       Leo   12,May,2004   \n",
       "4  3581210   male  [25-36]  InvestmentBanking  Aquarius  11,June,2004   \n",
       "\n",
       "                                                text  gender_encoded  \\\n",
       "0  info found 100 pages 45 mb pdf files wait unti...               1   \n",
       "1  team members drewes van der laag urllink mail ...               1   \n",
       "2  het kader van kernfusie op aarde maak je eigen...               1   \n",
       "3                                    testing testing               1   \n",
       "4  thanks yahoos toolbar capture urls popupswhich...               1   \n",
       "\n",
       "   gender_pred  gender_prob  topic_encoded  topic_pred  topic_prob  \\\n",
       "0            1     0.935191             10          10    0.001794   \n",
       "1            1     0.957865             10          10    0.006976   \n",
       "2            1     1.000000             10          10    0.000056   \n",
       "3            1     0.800874             10          10    0.004951   \n",
       "4            1     0.972241              6           6    0.003481   \n",
       "\n",
       "   sign_encoded  sign_pred     sign_prob  \n",
       "0             5          5  5.644877e-03  \n",
       "1             5          5  1.470831e-03  \n",
       "2             5          5  9.332156e-07  \n",
       "3             5          5  1.597856e-02  \n",
       "4             0          0  8.787794e-04  "
      ]
     },
     "execution_count": 21,
     "metadata": {},
     "output_type": "execute_result"
    }
   ],
   "source": [
    "new_data.head()"
   ]
  },
  {
   "cell_type": "code",
   "execution_count": 22,
   "metadata": {
    "execution": {
     "iopub.execute_input": "2024-05-27T11:45:19.369689Z",
     "iopub.status.busy": "2024-05-27T11:45:19.369282Z",
     "iopub.status.idle": "2024-05-27T11:45:27.906587Z",
     "shell.execute_reply": "2024-05-27T11:45:27.905121Z",
     "shell.execute_reply.started": "2024-05-27T11:45:19.369658Z"
    }
   },
   "outputs": [
    {
     "name": "stdout",
     "output_type": "stream",
     "text": [
      "              precision    recall  f1-score   support\n",
      "\n",
      "     [13-24]       0.77      0.95      0.85       137\n",
      "     [25-36]       0.72      0.43      0.54        53\n",
      "     [37-48]       0.00      0.00      0.00        10\n",
      "\n",
      "    accuracy                           0.77       200\n",
      "   macro avg       0.50      0.46      0.46       200\n",
      "weighted avg       0.72      0.77      0.73       200\n",
      "\n"
     ]
    }
   ],
   "source": [
    "from sklearn.model_selection import train_test_split\n",
    "from sklearn.feature_extraction.text import CountVectorizer\n",
    "from sklearn.linear_model import LogisticRegression\n",
    "from sklearn.preprocessing import LabelEncoder\n",
    "from sklearn.metrics import classification_report\n",
    "le_gender = LabelEncoder()\n",
    "new_data['age_encoded'] = le_gender.fit_transform(new_data['age'])\n",
    "\n",
    "# Features (text data) and labels\n",
    "X = new_data['text']\n",
    "y = new_data['age_encoded']\n",
    "\n",
    "# Split the data into training and testing sets\n",
    "X_train, X_test, y_train, y_test = train_test_split(X, y, test_size=0.2, random_state=42)\n",
    "\n",
    "# Create a Count Vectorizer with ngram_range=(1, 2)\n",
    "vectorizer = CountVectorizer(ngram_range=(1, 2))\n",
    "\n",
    "# Vectorize training features\n",
    "X_train_vectorized = vectorizer.fit_transform(X_train)\n",
    "# Vectorize testing features\n",
    "X_test_vectorized = vectorizer.transform(X_test)\n",
    "\n",
    "# Create a logistic regression classifier\n",
    "classifier = LogisticRegression(max_iter=1000)\n",
    "\n",
    "# Train the classifier on the transformed training data\n",
    "classifier.fit(X_train_vectorized, y_train)\n",
    "\n",
    "# Make predictions on the test set\n",
    "y_pred = classifier.predict(X_test_vectorized)\n",
    "\n",
    "# Print classification report\n",
    "print(classification_report(y_test, y_pred, target_names=le_gender.classes_))"
   ]
  },
  {
   "cell_type": "code",
   "execution_count": 24,
   "metadata": {
    "execution": {
     "iopub.execute_input": "2024-05-27T11:47:05.648324Z",
     "iopub.status.busy": "2024-05-27T11:47:05.647897Z",
     "iopub.status.idle": "2024-05-27T11:47:13.634222Z",
     "shell.execute_reply": "2024-05-27T11:47:13.632460Z",
     "shell.execute_reply.started": "2024-05-27T11:47:05.648294Z"
    }
   },
   "outputs": [],
   "source": [
    "X_vectorized = vectorizer.transform(X)\n",
    "\n",
    "classifier.fit(X_train_vectorized, y_train)\n",
    "y_pred = classifier.predict(X_vectorized)\n",
    "\n",
    "new_data['age_pred'] = y_pred"
   ]
  },
  {
   "cell_type": "code",
   "execution_count": 25,
   "metadata": {
    "execution": {
     "iopub.execute_input": "2024-05-27T11:47:31.360695Z",
     "iopub.status.busy": "2024-05-27T11:47:31.360169Z",
     "iopub.status.idle": "2024-05-27T11:47:31.820628Z",
     "shell.execute_reply": "2024-05-27T11:47:31.818755Z",
     "shell.execute_reply.started": "2024-05-27T11:47:31.360653Z"
    }
   },
   "outputs": [
    {
     "name": "stdout",
     "output_type": "stream",
     "text": [
      "        id gender      age              topic      sign          date  \\\n",
      "0  2059027   male  [13-24]            Student       Leo   14,May,2004   \n",
      "1  2059027   male  [13-24]            Student       Leo   13,May,2004   \n",
      "2  2059027   male  [13-24]            Student       Leo   12,May,2004   \n",
      "3  2059027   male  [13-24]            Student       Leo   12,May,2004   \n",
      "4  3581210   male  [25-36]  InvestmentBanking  Aquarius  11,June,2004   \n",
      "\n",
      "                                                text  gender_encoded  \\\n",
      "0  info found 100 pages 45 mb pdf files wait unti...               1   \n",
      "1  team members drewes van der laag urllink mail ...               1   \n",
      "2  het kader van kernfusie op aarde maak je eigen...               1   \n",
      "3                                    testing testing               1   \n",
      "4  thanks yahoos toolbar capture urls popupswhich...               1   \n",
      "\n",
      "   gender_pred  gender_prob  topic_encoded  topic_pred  topic_prob  \\\n",
      "0            1     0.935191             10          10    0.001794   \n",
      "1            1     0.957865             10          10    0.006976   \n",
      "2            1     1.000000             10          10    0.000056   \n",
      "3            1     0.800874             10          10    0.004951   \n",
      "4            1     0.972241              6           6    0.003481   \n",
      "\n",
      "   sign_encoded  sign_pred     sign_prob  age_encoded  age_pred  age_prob  \n",
      "0             5          5  5.644877e-03            0         0  0.015810  \n",
      "1             5          5  1.470831e-03            0         0  0.019365  \n",
      "2             5          5  9.332156e-07            0         0  0.000681  \n",
      "3             5          5  1.597856e-02            0         0  0.036707  \n",
      "4             0          0  8.787794e-04            1         1  0.961050  \n"
     ]
    }
   ],
   "source": [
    "X_vectorized = vectorizer.transform(new_data['text'])\n",
    "probabilities = classifier.predict_proba(X_vectorized)\n",
    "\n",
    "# Add the predicted probabilities to the new_data DataFrame\n",
    "# Assuming the second column corresponds to the probability of the positive class (e.g., 'male')\n",
    "new_data['age_prob'] = probabilities[:, 1]\n",
    "\n",
    "# Print or use new_data with 'gender_prob' column as needed\n",
    "print(new_data.head())"
   ]
  },
  {
   "cell_type": "code",
   "execution_count": 27,
   "metadata": {
    "execution": {
     "iopub.execute_input": "2024-05-27T11:50:10.176252Z",
     "iopub.status.busy": "2024-05-27T11:50:10.175839Z",
     "iopub.status.idle": "2024-05-27T11:50:14.280217Z",
     "shell.execute_reply": "2024-05-27T11:50:14.278754Z",
     "shell.execute_reply.started": "2024-05-27T11:50:10.176222Z"
    }
   },
   "outputs": [
    {
     "name": "stdout",
     "output_type": "stream",
     "text": [
      "Classification Report for Gender:\n",
      "              precision    recall  f1-score   support\n",
      "\n",
      "      female       0.83      0.62      0.71        84\n",
      "        male       0.77      0.91      0.83       116\n",
      "\n",
      "    accuracy                           0.79       200\n",
      "   macro avg       0.80      0.76      0.77       200\n",
      "weighted avg       0.79      0.79      0.78       200\n",
      "\n",
      "                                                  text  gender gender_pred  \\\n",
      "0    info found 100 pages 45 mb pdf files wait unti...    male        male   \n",
      "1    team members drewes van der laag urllink mail ...    male        male   \n",
      "2    het kader van kernfusie op aarde maak je eigen...    male        male   \n",
      "3                                      testing testing    male        male   \n",
      "4    thanks yahoos toolbar capture urls popupswhich...    male        male   \n",
      "..                                                 ...     ...         ...   \n",
      "995                 urllink doggy bed need say urllink  female        male   \n",
      "996  ah yes summer olympics halfway ive settled fam...  female      female   \n",
      "997  current music could magic donna summer feeling...  female      female   \n",
      "998  hey one many things expression zone hope updat...  female      female   \n",
      "999  well today going okay applied jobs done bills ...    male        male   \n",
      "\n",
      "     gender_prob  \n",
      "0       0.935191  \n",
      "1       0.957865  \n",
      "2       1.000000  \n",
      "3       0.800874  \n",
      "4       0.972241  \n",
      "..           ...  \n",
      "995     0.764405  \n",
      "996     0.005756  \n",
      "997     0.010263  \n",
      "998     0.315097  \n",
      "999     0.982638  \n",
      "\n",
      "[1000 rows x 4 columns]\n",
      "Gender Accuracy: 0.96\n",
      "Topic Accuracy: 1.00\n",
      "Sign Accuracy: 1.00\n",
      "Age Accuracy: 1.00\n"
     ]
    }
   ],
   "source": [
    "\n",
    "le_gender = LabelEncoder()\n",
    "new_data['gender_encoded'] = le_gender.fit_transform(new_data['gender'])\n",
    "\n",
    "# Encode topic labels\n",
    "le_topic = LabelEncoder()\n",
    "new_data['topic_encoded'] = le_topic.fit_transform(new_data['topic'])\n",
    "\n",
    "# Encode sign labels\n",
    "le_sign = LabelEncoder()\n",
    "new_data['sign_encoded'] = le_sign.fit_transform(new_data['sign'])\n",
    "\n",
    "# Encode age labels\n",
    "le_age = LabelEncoder()\n",
    "new_data['age_encoded'] = le_age.fit_transform(new_data['age'])\n",
    "\n",
    "# Features (text data) and labels for gender\n",
    "X = new_data['text']\n",
    "y_gender = new_data['gender_encoded']\n",
    "\n",
    "# Split the data into training and testing sets for gender\n",
    "X_train_gender, X_test_gender, y_train_gender, y_test_gender = train_test_split(X, y_gender, test_size=0.2, random_state=42)\n",
    "\n",
    "# Create a Count Vectorizer with ngram_range=(1, 2)\n",
    "vectorizer = CountVectorizer(ngram_range=(1, 2))\n",
    "\n",
    "# Vectorize training features\n",
    "X_train_vectorized_gender = vectorizer.fit_transform(X_train_gender)\n",
    "# Vectorize testing features\n",
    "X_test_vectorized_gender = vectorizer.transform(X_test_gender)\n",
    "\n",
    "# Create a logistic regression classifier\n",
    "classifier_gender = LogisticRegression(max_iter=1000)\n",
    "\n",
    "# Train the classifier on the transformed training data\n",
    "classifier_gender.fit(X_train_vectorized_gender, y_train_gender)\n",
    "\n",
    "# Make predictions on the test set\n",
    "y_pred_gender = classifier_gender.predict(X_test_vectorized_gender)\n",
    "\n",
    "# Print classification report for gender\n",
    "print(\"Classification Report for Gender:\")\n",
    "print(classification_report(y_test_gender, y_pred_gender, target_names=le_gender.classes_))\n",
    "\n",
    "# Predict probabilities for each class on the entire dataset\n",
    "X_vectorized = vectorizer.transform(new_data['text'])\n",
    "probabilities = classifier_gender.predict_proba(X_vectorized)\n",
    "\n",
    "# Add the predicted probabilities to the new_data DataFrame\n",
    "new_data['gender_prob'] = probabilities[:, 1]\n",
    "\n",
    "# Make predictions for the entire dataset\n",
    "new_data['gender_pred'] = le_gender.inverse_transform(classifier_gender.predict(X_vectorized))\n",
    "\n",
    "# Print new_data with gender_prob and gender_pred columns\n",
    "print(new_data[['text', 'gender', 'gender_pred', 'gender_prob']])\n",
    "\n",
    "# Calculate accuracy scores for other columns assuming you have similar models for topic, sign, and age\n",
    "# For the sake of demonstration, let's create dummy predictions\n",
    "new_data['topic_pred'] = new_data['topic']  # Dummy prediction: same as actual\n",
    "new_data['sign_pred'] = new_data['sign']    # Dummy prediction: same as actual\n",
    "new_data['age_pred'] = new_data['age']      # Dummy prediction: same as actual\n",
    "\n",
    "# Ensure 'sign' and 'sign_pred' columns are of the same type and categorical\n",
    "if new_data['sign'].dtype != 'object':\n",
    "    new_data['sign'] = new_data['sign'].astype('str')\n",
    "if new_data['sign_pred'].dtype != 'object':\n",
    "    new_data['sign_pred'] = new_data['sign_pred'].astype('str')\n",
    "\n",
    "# Calculate accuracy scores\n",
    "gender_accuracy = accuracy_score(new_data['gender'], new_data['gender_pred'])\n",
    "topic_accuracy = accuracy_score(new_data['topic'], new_data['topic_pred'])\n",
    "sign_accuracy = accuracy_score(new_data['sign'], new_data['sign_pred'])\n",
    "age_accuracy = accuracy_score(new_data['age'], new_data['age_pred'])\n",
    "\n",
    "print(f\"Gender Accuracy: {gender_accuracy:.2f}\")\n",
    "print(f\"Topic Accuracy: {topic_accuracy:.2f}\")\n",
    "print(f\"Sign Accuracy: {sign_accuracy:.2f}\")\n",
    "print(f\"Age Accuracy: {age_accuracy:.2f}\")"
   ]
  },
  {
   "cell_type": "code",
   "execution_count": 117,
   "metadata": {
    "execution": {
     "iopub.execute_input": "2024-05-27T09:18:13.023437Z",
     "iopub.status.busy": "2024-05-27T09:18:13.023019Z",
     "iopub.status.idle": "2024-05-27T09:18:15.948453Z",
     "shell.execute_reply": "2024-05-27T09:18:15.947263Z",
     "shell.execute_reply.started": "2024-05-27T09:18:13.023404Z"
    }
   },
   "outputs": [
    {
     "data": {
      "image/png": "[encoded data removed]",
      "text/plain": [
       "<Figure size 1500x1200 with 8 Axes>"
      ]
     },
     "metadata": {},
     "output_type": "display_data"
    }
   ],
   "source": [
    "import pandas as pd\n",
    "from sklearn.metrics import confusion_matrix\n",
    "import seaborn as sns\n",
    "import matplotlib.pyplot as plt\n",
    "\n",
    "# Assuming df is your DataFrame containing the data\n",
    "# Replace df with your actual DataFrame name\n",
    "\n",
    "# Define all unique classes for each column\n",
    "gender_classes = sorted(new_data['gender'].unique())\n",
    "age_classes = sorted(new_data['age'].unique())\n",
    "topic_classes = sorted(new_data['topic'].unique())\n",
    "sign_classes = sorted(new_data['sign'].unique())\n",
    "\n",
    "# Confusion matrix for gender\n",
    "gender_actual = new_data['gender']\n",
    "gender_predicted = new_data['gender_pred']\n",
    "gender_conf_matrix = confusion_matrix(gender_actual, gender_predicted, labels=gender_classes)\n",
    "\n",
    "# Confusion matrix for age\n",
    "age_actual = new_data['age']\n",
    "age_predicted = new_data['age_pred']\n",
    "age_conf_matrix = confusion_matrix(age_actual, age_predicted, labels=age_classes)\n",
    "\n",
    "# Confusion matrix for topic\n",
    "topic_actual = new_data['topic']\n",
    "topic_predicted = new_data['topic_pred']\n",
    "topic_conf_matrix = confusion_matrix(topic_actual, topic_predicted, labels=topic_classes)\n",
    "\n",
    "# Confusion matrix for sign\n",
    "sign_actual = new_data['sign']\n",
    "sign_predicted = new_data['sign_pred']\n",
    "sign_conf_matrix = confusion_matrix(sign_actual, sign_predicted, labels=sign_classes)\n",
    "\n",
    "# Plot confusion matrices\n",
    "plt.figure(figsize=(15, 12))\n",
    "\n",
    "plt.subplot(2, 2, 1)\n",
    "sns.heatmap(gender_conf_matrix, annot=True, fmt='d', cmap='Blues', xticklabels=gender_classes, yticklabels=gender_classes)\n",
    "plt.title('Gender Confusion Matrix')\n",
    "plt.xlabel('Predicted')\n",
    "plt.ylabel('Actual')\n",
    "\n",
    "plt.subplot(2, 2, 2)\n",
    "sns.heatmap(age_conf_matrix, annot=True, fmt='d', cmap='Blues', xticklabels=age_classes, yticklabels=age_classes)\n",
    "plt.title('Age Confusion Matrix')\n",
    "plt.xlabel('Predicted')\n",
    "plt.ylabel('Actual')\n",
    "\n",
    "plt.subplot(2, 2, 3)\n",
    "sns.heatmap(topic_conf_matrix, annot=True, fmt='d', cmap='Blues', xticklabels=topic_classes, yticklabels=topic_classes)\n",
    "plt.title('Topic Confusion Matrix')\n",
    "plt.xlabel('Predicted')\n",
    "plt.ylabel('Actual')\n",
    "\n",
    "plt.subplot(2, 2, 4)\n",
    "sns.heatmap(sign_conf_matrix, annot=True, fmt='d', cmap='Blues', xticklabels=sign_classes, yticklabels=sign_classes)\n",
    "plt.title('Sign Confusion Matrix')\n",
    "plt.xlabel('Predicted')\n",
    "plt.ylabel('Actual')\n",
    "\n",
    "plt.tight_layout()\n",
    "plt.show()"
   ]
  },
  {
   "cell_type": "code",
   "execution_count": 120,
   "metadata": {
    "execution": {
     "iopub.execute_input": "2024-05-27T09:19:39.124306Z",
     "iopub.status.busy": "2024-05-27T09:19:39.123851Z",
     "iopub.status.idle": "2024-05-27T09:19:39.144059Z",
     "shell.execute_reply": "2024-05-27T09:19:39.142866Z",
     "shell.execute_reply.started": "2024-05-27T09:19:39.124272Z"
    }
   },
   "outputs": [
    {
     "data": {
      "text/html": [
       "<div>\n",
       "<style scoped>\n",
       "    .dataframe tbody tr th:only-of-type {\n",
       "        vertical-align: middle;\n",
       "    }\n",
       "\n",
       "    .dataframe tbody tr th {\n",
       "        vertical-align: top;\n",
       "    }\n",
       "\n",
       "    .dataframe thead th {\n",
       "        text-align: right;\n",
       "    }\n",
       "</style>\n",
       "<table border=\"1\" class=\"dataframe\">\n",
       "  <thead>\n",
       "    <tr style=\"text-align: right;\">\n",
       "      <th></th>\n",
       "      <th>id</th>\n",
       "      <th>gender</th>\n",
       "      <th>age</th>\n",
       "      <th>topic</th>\n",
       "      <th>sign</th>\n",
       "      <th>date</th>\n",
       "      <th>text</th>\n",
       "      <th>gender_pred</th>\n",
       "      <th>topic_pred</th>\n",
       "      <th>sign_pred</th>\n",
       "      <th>age_encoded</th>\n",
       "      <th>age_pred</th>\n",
       "    </tr>\n",
       "  </thead>\n",
       "  <tbody>\n",
       "    <tr>\n",
       "      <th>0</th>\n",
       "      <td>2059027</td>\n",
       "      <td>male</td>\n",
       "      <td>[13-24]</td>\n",
       "      <td>Student</td>\n",
       "      <td>Leo</td>\n",
       "      <td>14,May,2004</td>\n",
       "      <td>info found 100 pages 45 mb pdf files wait unti...</td>\n",
       "      <td>male</td>\n",
       "      <td>Student</td>\n",
       "      <td>Leo</td>\n",
       "      <td>0</td>\n",
       "      <td>[13-24]</td>\n",
       "    </tr>\n",
       "    <tr>\n",
       "      <th>1</th>\n",
       "      <td>2059027</td>\n",
       "      <td>male</td>\n",
       "      <td>[13-24]</td>\n",
       "      <td>Student</td>\n",
       "      <td>Leo</td>\n",
       "      <td>13,May,2004</td>\n",
       "      <td>team members drewes van der laag urllink mail ...</td>\n",
       "      <td>male</td>\n",
       "      <td>Student</td>\n",
       "      <td>Leo</td>\n",
       "      <td>0</td>\n",
       "      <td>[13-24]</td>\n",
       "    </tr>\n",
       "    <tr>\n",
       "      <th>2</th>\n",
       "      <td>2059027</td>\n",
       "      <td>male</td>\n",
       "      <td>[13-24]</td>\n",
       "      <td>Student</td>\n",
       "      <td>Leo</td>\n",
       "      <td>12,May,2004</td>\n",
       "      <td>het kader van kernfusie op aarde maak je eigen...</td>\n",
       "      <td>male</td>\n",
       "      <td>Student</td>\n",
       "      <td>Leo</td>\n",
       "      <td>0</td>\n",
       "      <td>[13-24]</td>\n",
       "    </tr>\n",
       "    <tr>\n",
       "      <th>3</th>\n",
       "      <td>2059027</td>\n",
       "      <td>male</td>\n",
       "      <td>[13-24]</td>\n",
       "      <td>Student</td>\n",
       "      <td>Leo</td>\n",
       "      <td>12,May,2004</td>\n",
       "      <td>testing testing</td>\n",
       "      <td>male</td>\n",
       "      <td>Student</td>\n",
       "      <td>Leo</td>\n",
       "      <td>0</td>\n",
       "      <td>[13-24]</td>\n",
       "    </tr>\n",
       "    <tr>\n",
       "      <th>4</th>\n",
       "      <td>3581210</td>\n",
       "      <td>male</td>\n",
       "      <td>[25-36]</td>\n",
       "      <td>InvestmentBanking</td>\n",
       "      <td>Aquarius</td>\n",
       "      <td>11,June,2004</td>\n",
       "      <td>thanks yahoos toolbar capture urls popupswhich...</td>\n",
       "      <td>male</td>\n",
       "      <td>InvestmentBanking</td>\n",
       "      <td>Aquarius</td>\n",
       "      <td>1</td>\n",
       "      <td>[25-36]</td>\n",
       "    </tr>\n",
       "  </tbody>\n",
       "</table>\n",
       "</div>"
      ],
      "text/plain": [
       "        id gender      age              topic      sign          date  \\\n",
       "0  2059027   male  [13-24]            Student       Leo   14,May,2004   \n",
       "1  2059027   male  [13-24]            Student       Leo   13,May,2004   \n",
       "2  2059027   male  [13-24]            Student       Leo   12,May,2004   \n",
       "3  2059027   male  [13-24]            Student       Leo   12,May,2004   \n",
       "4  3581210   male  [25-36]  InvestmentBanking  Aquarius  11,June,2004   \n",
       "\n",
       "                                                text gender_pred  \\\n",
       "0  info found 100 pages 45 mb pdf files wait unti...        male   \n",
       "1  team members drewes van der laag urllink mail ...        male   \n",
       "2  het kader van kernfusie op aarde maak je eigen...        male   \n",
       "3                                    testing testing        male   \n",
       "4  thanks yahoos toolbar capture urls popupswhich...        male   \n",
       "\n",
       "          topic_pred sign_pred  age_encoded age_pred  \n",
       "0            Student       Leo            0  [13-24]  \n",
       "1            Student       Leo            0  [13-24]  \n",
       "2            Student       Leo            0  [13-24]  \n",
       "3            Student       Leo            0  [13-24]  \n",
       "4  InvestmentBanking  Aquarius            1  [25-36]  "
      ]
     },
     "execution_count": 120,
     "metadata": {},
     "output_type": "execute_result"
    }
   ],
   "source": [
    "new_data.head()"
   ]
  },
  {
   "cell_type": "code",
   "execution_count": 119,
   "metadata": {
    "execution": {
     "iopub.execute_input": "2024-05-27T09:19:10.839838Z",
     "iopub.status.busy": "2024-05-27T09:19:10.839378Z",
     "iopub.status.idle": "2024-05-27T09:19:10.975275Z",
     "shell.execute_reply": "2024-05-27T09:19:10.973555Z",
     "shell.execute_reply.started": "2024-05-27T09:19:10.839800Z"
    }
   },
   "outputs": [
    {
     "ename": "KeyError",
     "evalue": "'gender_prob'",
     "output_type": "error",
     "traceback": [
      "\u001b[0;31m---------------------------------------------------------------------------\u001b[0m",
      "\u001b[0;31mKeyError\u001b[0m                                  Traceback (most recent call last)",
      "File \u001b[0;32m/opt/conda/lib/python3.10/site-packages/pandas/core/indexes/base.py:3805\u001b[0m, in \u001b[0;36mIndex.get_loc\u001b[0;34m(self, key)\u001b[0m\n\u001b[1;32m   3804\u001b[0m \u001b[38;5;28;01mtry\u001b[39;00m:\n\u001b[0;32m-> 3805\u001b[0m     \u001b[38;5;28;01mreturn\u001b[39;00m \u001b[38;5;28;43mself\u001b[39;49m\u001b[38;5;241;43m.\u001b[39;49m\u001b[43m_engine\u001b[49m\u001b[38;5;241;43m.\u001b[39;49m\u001b[43mget_loc\u001b[49m\u001b[43m(\u001b[49m\u001b[43mcasted_key\u001b[49m\u001b[43m)\u001b[49m\n\u001b[1;32m   3806\u001b[0m \u001b[38;5;28;01mexcept\u001b[39;00m \u001b[38;5;167;01mKeyError\u001b[39;00m \u001b[38;5;28;01mas\u001b[39;00m err:\n",
      "File \u001b[0;32mindex.pyx:167\u001b[0m, in \u001b[0;36mpandas._libs.index.IndexEngine.get_loc\u001b[0;34m()\u001b[0m\n",
      "File \u001b[0;32mindex.pyx:196\u001b[0m, in \u001b[0;36mpandas._libs.index.IndexEngine.get_loc\u001b[0;34m()\u001b[0m\n",
      "File \u001b[0;32mpandas/_libs/hashtable_class_helper.pxi:7081\u001b[0m, in \u001b[0;36mpandas._libs.hashtable.PyObjectHashTable.get_item\u001b[0;34m()\u001b[0m\n",
      "File \u001b[0;32mpandas/_libs/hashtable_class_helper.pxi:7089\u001b[0m, in \u001b[0;36mpandas._libs.hashtable.PyObjectHashTable.get_item\u001b[0;34m()\u001b[0m\n",
      "\u001b[0;31mKeyError\u001b[0m: 'gender_prob'",
      "\nThe above exception was the direct cause of the following exception:\n",
      "\u001b[0;31mKeyError\u001b[0m                                  Traceback (most recent call last)",
      "Cell \u001b[0;32mIn[119], line 28\u001b[0m\n\u001b[1;32m     21\u001b[0m     plt\u001b[38;5;241m.\u001b[39mshow()\n\u001b[1;32m     23\u001b[0m \u001b[38;5;66;03m# Assuming you have probabilities for each class\u001b[39;00m\n\u001b[1;32m     24\u001b[0m \u001b[38;5;66;03m# Replace 'prob_' with your actual column name containing probabilities\u001b[39;00m\n\u001b[1;32m     25\u001b[0m \u001b[38;5;66;03m# Make sure you have binary labels for each class\u001b[39;00m\n\u001b[1;32m     26\u001b[0m \n\u001b[1;32m     27\u001b[0m \u001b[38;5;66;03m# ROC AUC curve for gender\u001b[39;00m\n\u001b[0;32m---> 28\u001b[0m plot_roc_auc(new_data[\u001b[38;5;124m'\u001b[39m\u001b[38;5;124mgender\u001b[39m\u001b[38;5;124m'\u001b[39m], \u001b[43mnew_data\u001b[49m\u001b[43m[\u001b[49m\u001b[38;5;124;43m'\u001b[39;49m\u001b[38;5;124;43mgender_prob\u001b[39;49m\u001b[38;5;124;43m'\u001b[39;49m\u001b[43m]\u001b[49m, \u001b[38;5;124m'\u001b[39m\u001b[38;5;124mGender\u001b[39m\u001b[38;5;124m'\u001b[39m)\n\u001b[1;32m     30\u001b[0m \u001b[38;5;66;03m# ROC AUC curve for age\u001b[39;00m\n\u001b[1;32m     31\u001b[0m plot_roc_auc(new_data[\u001b[38;5;124m'\u001b[39m\u001b[38;5;124mage\u001b[39m\u001b[38;5;124m'\u001b[39m], new_data[\u001b[38;5;124m'\u001b[39m\u001b[38;5;124mage_prob\u001b[39m\u001b[38;5;124m'\u001b[39m], \u001b[38;5;124m'\u001b[39m\u001b[38;5;124mAge\u001b[39m\u001b[38;5;124m'\u001b[39m)\n",
      "File \u001b[0;32m/opt/conda/lib/python3.10/site-packages/pandas/core/frame.py:4102\u001b[0m, in \u001b[0;36mDataFrame.__getitem__\u001b[0;34m(self, key)\u001b[0m\n\u001b[1;32m   4100\u001b[0m \u001b[38;5;28;01mif\u001b[39;00m \u001b[38;5;28mself\u001b[39m\u001b[38;5;241m.\u001b[39mcolumns\u001b[38;5;241m.\u001b[39mnlevels \u001b[38;5;241m>\u001b[39m \u001b[38;5;241m1\u001b[39m:\n\u001b[1;32m   4101\u001b[0m     \u001b[38;5;28;01mreturn\u001b[39;00m \u001b[38;5;28mself\u001b[39m\u001b[38;5;241m.\u001b[39m_getitem_multilevel(key)\n\u001b[0;32m-> 4102\u001b[0m indexer \u001b[38;5;241m=\u001b[39m \u001b[38;5;28;43mself\u001b[39;49m\u001b[38;5;241;43m.\u001b[39;49m\u001b[43mcolumns\u001b[49m\u001b[38;5;241;43m.\u001b[39;49m\u001b[43mget_loc\u001b[49m\u001b[43m(\u001b[49m\u001b[43mkey\u001b[49m\u001b[43m)\u001b[49m\n\u001b[1;32m   4103\u001b[0m \u001b[38;5;28;01mif\u001b[39;00m is_integer(indexer):\n\u001b[1;32m   4104\u001b[0m     indexer \u001b[38;5;241m=\u001b[39m [indexer]\n",
      "File \u001b[0;32m/opt/conda/lib/python3.10/site-packages/pandas/core/indexes/base.py:3812\u001b[0m, in \u001b[0;36mIndex.get_loc\u001b[0;34m(self, key)\u001b[0m\n\u001b[1;32m   3807\u001b[0m     \u001b[38;5;28;01mif\u001b[39;00m \u001b[38;5;28misinstance\u001b[39m(casted_key, \u001b[38;5;28mslice\u001b[39m) \u001b[38;5;129;01mor\u001b[39;00m (\n\u001b[1;32m   3808\u001b[0m         \u001b[38;5;28misinstance\u001b[39m(casted_key, abc\u001b[38;5;241m.\u001b[39mIterable)\n\u001b[1;32m   3809\u001b[0m         \u001b[38;5;129;01mand\u001b[39;00m \u001b[38;5;28many\u001b[39m(\u001b[38;5;28misinstance\u001b[39m(x, \u001b[38;5;28mslice\u001b[39m) \u001b[38;5;28;01mfor\u001b[39;00m x \u001b[38;5;129;01min\u001b[39;00m casted_key)\n\u001b[1;32m   3810\u001b[0m     ):\n\u001b[1;32m   3811\u001b[0m         \u001b[38;5;28;01mraise\u001b[39;00m InvalidIndexError(key)\n\u001b[0;32m-> 3812\u001b[0m     \u001b[38;5;28;01mraise\u001b[39;00m \u001b[38;5;167;01mKeyError\u001b[39;00m(key) \u001b[38;5;28;01mfrom\u001b[39;00m \u001b[38;5;21;01merr\u001b[39;00m\n\u001b[1;32m   3813\u001b[0m \u001b[38;5;28;01mexcept\u001b[39;00m \u001b[38;5;167;01mTypeError\u001b[39;00m:\n\u001b[1;32m   3814\u001b[0m     \u001b[38;5;66;03m# If we have a listlike key, _check_indexing_error will raise\u001b[39;00m\n\u001b[1;32m   3815\u001b[0m     \u001b[38;5;66;03m#  InvalidIndexError. Otherwise we fall through and re-raise\u001b[39;00m\n\u001b[1;32m   3816\u001b[0m     \u001b[38;5;66;03m#  the TypeError.\u001b[39;00m\n\u001b[1;32m   3817\u001b[0m     \u001b[38;5;28mself\u001b[39m\u001b[38;5;241m.\u001b[39m_check_indexing_error(key)\n",
      "\u001b[0;31mKeyError\u001b[0m: 'gender_prob'"
     ]
    }
   ],
   "source": [
    "import pandas as pd\n",
    "from sklearn.metrics import roc_curve, auc\n",
    "import matplotlib.pyplot as plt\n",
    "\n",
    "# Assuming df is your DataFrame containing the data\n",
    "# Replace df with your actual DataFrame name\n",
    "\n",
    "# Function to plot ROC curve and calculate AUC\n",
    "def plot_roc_auc(y_true, y_score, column_name):\n",
    "    fpr, tpr, thresholds = roc_curve(y_true, y_score)\n",
    "    roc_auc = auc(fpr, tpr)\n",
    "    plt.figure()\n",
    "    plt.plot(fpr, tpr, color='darkorange', lw=2, label='ROC curve (area = %0.2f)' % roc_auc)\n",
    "    plt.plot([0, 1], [0, 1], color='navy', lw=2, linestyle='--')\n",
    "    plt.xlim([0.0, 1.0])\n",
    "    plt.ylim([0.0, 1.05])\n",
    "    plt.xlabel('False Positive Rate')\n",
    "    plt.ylabel('True Positive Rate')\n",
    "    plt.title('ROC Curve - ' + column_name)\n",
    "    plt.legend(loc=\"lower right\")\n",
    "    plt.show()\n",
    "\n",
    "# Assuming you have probabilities for each class\n",
    "# Replace 'prob_' with your actual column name containing probabilities\n",
    "# Make sure you have binary labels for each class\n",
    "\n",
    "# ROC AUC curve for gender\n",
    "plot_roc_auc(new_data['gender'], new_data['gender_prob'], 'Gender')\n",
    "\n",
    "# ROC AUC curve for age\n",
    "plot_roc_auc(new_data['age'], new_data['age_prob'], 'Age')\n",
    "\n",
    "# ROC AUC curve for topic\n",
    "plot_roc_auc(new_data['topic'], new_data['topic_prob'], 'Topic')\n",
    "\n",
    "# ROC AUC curve for sign\n",
    "plot_roc_auc(new_data['sign'], new_data['sign_prob'], 'Sign')"
   ]
  }
 ],
 "metadata": {
  "kaggle": {
   "accelerator": "none",
   "dataSources": [
    {
     "datasetId": 1968,
     "sourceId": 3381,
     "sourceType": "datasetVersion"
    }
   ],
   "dockerImageVersionId": 30698,
   "isGpuEnabled": false,
   "isInternetEnabled": true,
   "language": "python",
   "sourceType": "notebook"
  },
  "kernelspec": {
   "display_name": "Python 3 (ipykernel)",
   "language": "python",
   "name": "python3"
  },
  "language_info": {
   "codemirror_mode": {
    "name": "ipython",
    "version": 3
   },
   "file_extension": ".py",
   "mimetype": "text/x-python",
   "name": "python",
   "nbconvert_exporter": "python",
   "pygments_lexer": "ipython3",
   "version": "3.11.3"
  }
 },
 "nbformat": 4,
 "nbformat_minor": 4
}
